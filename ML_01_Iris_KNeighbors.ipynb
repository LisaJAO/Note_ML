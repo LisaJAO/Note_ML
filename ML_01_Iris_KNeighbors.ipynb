{
 "cells": [
  {
   "cell_type": "code",
   "execution_count": 35,
   "metadata": {},
   "outputs": [],
   "source": [
    "import numpy as np\n",
    "from sklearn import datasets  #各種的數據庫\n",
    "from sklearn.model_selection import train_test_split  #\n",
    "from sklearn.neighbors import KNeighborsClassifier\n",
    "\n",
    "iris=datasets.load_iris()  \n",
    "iris_X=iris.data  #iris的屬性 features\n",
    "iris_y=iris.target  #iris的類別 target\n",
    " "
   ]
  },
  {
   "cell_type": "code",
   "execution_count": 36,
   "metadata": {},
   "outputs": [
    {
     "name": "stdout",
     "output_type": "stream",
     "text": [
      "[[5.1 3.5 1.4 0.2]\n",
      " [4.9 3.  1.4 0.2]]\n"
     ]
    }
   ],
   "source": [
    "print(iris_X[:2, :])  #兩個sample的屬性"
   ]
  },
  {
   "cell_type": "code",
   "execution_count": 37,
   "metadata": {},
   "outputs": [
    {
     "name": "stdout",
     "output_type": "stream",
     "text": [
      "[0 0 0 0 0 0 0 0 0 0 0 0 0 0 0 0 0 0 0 0 0 0 0 0 0 0 0 0 0 0 0 0 0 0 0 0 0\n",
      " 0 0 0 0 0 0 0 0 0 0 0 0 0 1 1 1 1 1 1 1 1 1 1 1 1 1 1 1 1 1 1 1 1 1 1 1 1\n",
      " 1 1 1 1 1 1 1 1 1 1 1 1 1 1 1 1 1 1 1 1 1 1 1 1 1 1 2 2 2 2 2 2 2 2 2 2 2\n",
      " 2 2 2 2 2 2 2 2 2 2 2 2 2 2 2 2 2 2 2 2 2 2 2 2 2 2 2 2 2 2 2 2 2 2 2 2 2\n",
      " 2 2]\n"
     ]
    }
   ],
   "source": [
    "print(iris_y)   #類別:有0,1,2 三個類別"
   ]
  },
  {
   "cell_type": "code",
   "execution_count": 20,
   "metadata": {},
   "outputs": [],
   "source": [
    "X_train,X_test,y_train,y_test=train_test_split(iris_X,iris_y,test_size=0.3) #分學習的data及測試的data,測試比例為30%"
   ]
  },
  {
   "cell_type": "code",
   "execution_count": 39,
   "metadata": {},
   "outputs": [
    {
     "name": "stdout",
     "output_type": "stream",
     "text": [
      "[2 1 1 1 1 0 1 0 1 0 0 0 2 1 2 2 2 1 1 0 2 1 0 1 1 0 2 0 2 2 2 2 2 2 2 1 1\n",
      " 2 2 2 0 2 0 0 1 1 0 1 1 1 2 1 0 0 0 1 1 1 2 2 2 2 2 2 2 1 0 0 1 0 2 1 0 2\n",
      " 0 2 0 0 2 1 2 2 1 2 2 0 0 0 0 0 1 0 1 2 0 2 1 2 0 1 1 0 2 1 2]\n"
     ]
    }
   ],
   "source": [
    "print(y_train)    #類別y學習的data -->數據打亂了~ 呵呵"
   ]
  },
  {
   "cell_type": "code",
   "execution_count": 41,
   "metadata": {},
   "outputs": [
    {
     "data": {
      "text/plain": [
       "KNeighborsClassifier(algorithm='auto', leaf_size=30, metric='minkowski',\n",
       "                     metric_params=None, n_jobs=None, n_neighbors=5, p=2,\n",
       "                     weights='uniform')"
      ]
     },
     "execution_count": 41,
     "metadata": {},
     "output_type": "execute_result"
    }
   ],
   "source": [
    "knn=KNeighborsClassifier()  #model\n",
    "knn.fit(X_train,y_train)  #將X_train及y_train的data放入knn內, 自動完成train的步驟"
   ]
  },
  {
   "cell_type": "code",
   "execution_count": 42,
   "metadata": {},
   "outputs": [
    {
     "name": "stdout",
     "output_type": "stream",
     "text": [
      "[0 2 1 1 0 1 0 0 0 1 1 0 1 0 2 1 1 1 1 0 0 2 0 2 1 1 0 0 0 1 0 0 1 1 1 2 0\n",
      " 0 2 0 2 2 2 2 1]\n"
     ]
    }
   ],
   "source": [
    "print(knn.predict(X_test))  #用train完的knn去預測X_test的值 ------->(預測值 )"
   ]
  },
  {
   "cell_type": "code",
   "execution_count": 34,
   "metadata": {},
   "outputs": [
    {
     "name": "stdout",
     "output_type": "stream",
     "text": [
      "[0 2 1 1 0 1 0 0 0 1 1 0 1 0 2 1 1 1 1 0 0 2 0 2 1 1 0 0 0 2 0 0 1 1 1 2 0\n",
      " 0 2 0 2 2 2 2 1]\n"
     ]
    }
   ],
   "source": [
    "print(y_test)   #  ----->(真實值)"
   ]
  },
  {
   "cell_type": "markdown",
   "metadata": {},
   "source": [
    "# 學習筆記: \n",
    "<knn.predict(X_test)>  預測值 VS 真實值  <y_test>\n",
    "還是有點小小的誤差, 但大致都符合 ^^ \n",
    "謝謝Morvan教的第一個ML小小練習\n",
    "sciket-learn: https://scikit-learn.org/stable/\n",
    "sciket-learn datasets: https://scikit-learn.org/stable/modules/classes.html"
   ]
  }
 ],
 "metadata": {
  "kernelspec": {
   "display_name": "Python 3",
   "language": "python",
   "name": "python3"
  },
  "language_info": {
   "codemirror_mode": {
    "name": "ipython",
    "version": 3
   },
   "file_extension": ".py",
   "mimetype": "text/x-python",
   "name": "python",
   "nbconvert_exporter": "python",
   "pygments_lexer": "ipython3",
   "version": "3.7.3"
  }
 },
 "nbformat": 4,
 "nbformat_minor": 2
}
