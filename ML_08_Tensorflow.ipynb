{
 "cells": [
  {
   "cell_type": "code",
   "execution_count": 9,
   "metadata": {},
   "outputs": [
    {
     "name": "stdout",
     "output_type": "stream",
     "text": [
      "0 [-0.3388139] [0.73579425]\n",
      "20 [-0.01727083] [0.36240876]\n",
      "40 [0.07368953] [0.31400183]\n",
      "60 [0.09409709] [0.30314142]\n",
      "80 [0.09867564] [0.3007048]\n",
      "100 [0.09970286] [0.30015814]\n",
      "120 [0.09993336] [0.30003548]\n",
      "140 [0.09998505] [0.30000797]\n",
      "160 [0.09999663] [0.3000018]\n",
      "180 [0.09999923] [0.30000043]\n",
      "200 [0.09999985] [0.3000001]\n"
     ]
    }
   ],
   "source": [
    "#Learning from :https://morvanzhou.github.io/tutorials/machine-learning/tensorflow/2-2-example2/\n",
    "\n",
    "import tensorflow as tf  \n",
    "import numpy as np  #計算的模型\n",
    "\n",
    "#create data: 生成100個隨機數列\n",
    "x_data=np.random.rand(100).astype(np.float32)\n",
    "y_data=x_data*0.1+0.3  #預測目標\n",
    "\n",
    "###create tensorflow structure start###\n",
    "Weight= tf.Variable(tf.random_uniform([1],-1.0,1.0))  \n",
    "#[1] :表一維結構隨機數列 \n",
    "#令Weight初始值為-1~1, 之後不斷提升到很接近0.1\n",
    "\n",
    "Bias=tf.Variable(tf.zeros([1]))   ## 要用zeros\n",
    "#令Bias初始值為1, 之後不斷提升到很接近0.3\n",
    "\n",
    "\n",
    "y=Weight*x_data+Bias   \n",
    "#y=預測模型\n",
    "\n",
    "\n",
    "loss=tf.reduce_mean(tf.square(y-y_data))\n",
    "#誤差\n",
    "\n",
    "optimizer=tf.train.GradientDescentOptimizer(0.5)\n",
    "#Gradient Descent 來優化誤差\n",
    "#學習效率設為0.5\n",
    "\n",
    "train=optimizer.minimize(loss)\n",
    "\n",
    "initial=tf.initialize_all_variables()\n",
    "#初始化所有的變量\n",
    "\n",
    "\n",
    "###create tensorflow structure end###\n",
    "\n",
    "\n",
    "sess=tf.Session()  \n",
    "sess.run(initial)  ## 重要!! 要啟動上面的初始化\n",
    "\n",
    "\n",
    "\n",
    "##開始訓練: 訓練201次\n",
    "for step in range(201):\n",
    "    sess.run(train)\n",
    "    if step%20==0:   #每20次, 呈現訓練結果\n",
    "        print(step,sess.run(Weight),sess.run(Bias))\n",
    "\n",
    "##每次運作的Weight和Bias都不一樣. Weight和Bias都會慢慢接近目標\n"
   ]
  },
  {
   "cell_type": "code",
   "execution_count": null,
   "metadata": {},
   "outputs": [],
   "source": []
  }
 ],
 "metadata": {
  "kernelspec": {
   "display_name": "Python 3",
   "language": "python",
   "name": "python3"
  },
  "language_info": {
   "codemirror_mode": {
    "name": "ipython",
    "version": 3
   },
   "file_extension": ".py",
   "mimetype": "text/x-python",
   "name": "python",
   "nbconvert_exporter": "python",
   "pygments_lexer": "ipython3",
   "version": "3.7.4"
  }
 },
 "nbformat": 4,
 "nbformat_minor": 2
}
